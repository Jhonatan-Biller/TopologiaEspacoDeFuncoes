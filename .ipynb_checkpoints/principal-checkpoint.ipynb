{
 "cells": [
  {
   "cell_type": "markdown",
   "id": "1c1d5f58-3f11-44be-8c42-285cab70894d",
   "metadata": {},
   "source": [
    "<h1 style='color:#b50000'> Espaço de Funções</h1>\n",
    "\n",
    "<h2 style='color:#0000ec'>1 &nbsp; Introdução</h2>\n",
    "\n",
    "\n",
    "&nbsp;<b style='color:#b50000' >&nbsp; Definição:</b> Seja $X$ um conjunto arbitrário. Uma <b>função</b> $f:X \\rightarrow \\mathbb{R}$ é dita <b>limitada</b> se $\\exists k\\in \\mathbb{R}$ tal que $|f(x)|\\leqslant k$, $\\forall k\\in X$.\n",
    "\n",
    "&nbsp;&nbsp;&nbsp;Indicicamos $B(X,\\mathbb{R})$ o conjunto das funções limitadas $f:X \\rightarrow \\mathbb{R}$. <br><br>\n",
    "&nbsp;&nbsp;&nbsp;A distância $d$ entre duas funções limitadas é representada por:\n",
    "\n",
    "$$d: B(X,\\mathbb{R})\\times B(X,\\mathbb{R}) \\rightarrow \\mathbb{R} \\: \\: \\: \\: (f,g)\\mapsto sup|f(x)-g(x)| $$\n",
    "\n",
    "&nbsp;&nbsp;&nbsp; <b>Referência:</b> <i>Elementos de Topologia Geral</i>, de Elon Lajes Lima"
   ]
  },
  {
   "cell_type": "markdown",
   "id": "5e161dbd-d011-4a02-80e1-2944113b2b2d",
   "metadata": {},
   "source": [
    "<h2 style='color:#0000ec'>2 &nbsp; Problemas propostos</h2>\n",
    "\n",
    "&nbsp;&nbsp;&nbsp;Considere as funções:\n",
    "$$ f:[0,1]\\rightarrow \\mathbb{R}, \\: g:[0,1]\\rightarrow \\mathbb{R}$$\n",
    "$$f(x)=x, \\: g(x)=x^2$$\n",
    "\n",
    "&nbsp;&nbsp;&nbsp;<b>Problemas:</b> \n",
    "\n",
    "&nbsp;&nbsp;&nbsp;1. Determinar a distância $d$ entre as funções $f$ e $g$.\n",
    "\n",
    "&nbsp;&nbsp;&nbsp;2. Exibir o gráfico $x\\times d $.\n",
    "\n",
    "&nbsp;&nbsp;&nbsp;3. Ajustar uma curva ao gráfico $x\\times d $."
   ]
  },
  {
   "cell_type": "markdown",
   "id": "7b3aa419-ea1c-47ca-bda8-8941aacbc3d7",
   "metadata": {},
   "source": [
    "<h2 style='color:#0000ec'>3 &nbsp; Resolução do problema</h2>\n",
    "\n",
    "<h3 style='color:#0000b7' >&nbsp;&nbsp;2.1 &nbsp;A distância entre $f$ e $g$</h3>\n",
    "\n",
    "&nbsp;&nbsp;&nbsp;&nbsp;&nbsp; A distância entre as curvas $f$ e $g$ podem ser calculadas utilizando o Python de duas maneiras: Simbólicamente e numéricamente. A abordagem simbólica consiste em utilizar a biblioteca SymPy, ao passo que numéricamente, em geral, usa-se a biblioteca NumPy, conforme apresenta as seções 2.1.1 e 2.1.2:"
   ]
  },
  {
   "cell_type": "markdown",
   "id": "3bad7cf5-09bd-4002-8571-2448224f2a0e",
   "metadata": {},
   "source": [
    "<h4 style='color:#460204' >&nbsp;&nbsp;&nbsp;&nbsp;2.1.1 &nbsp;Abordagem simbólica</h4>\n",
    "\n",
    "&nbsp;&nbsp;&nbsp;&nbsp;&nbsp; A estratégia para obter simbólicamente a distância $d$ entre $f$ e $g$ consiste em obter o(s) ponto(s) crítico(s) da função $h = f - g$.\n",
    "\n",
    "&nbsp;&nbsp;&nbsp;&nbsp;&nbsp; Carregando a biblioteca Sympy:"
   ]
  },
  {
   "cell_type": "code",
   "execution_count": 1,
   "id": "825bf77c-2007-4e66-bb57-518e74e92a6a",
   "metadata": {},
   "outputs": [],
   "source": [
    "import sympy as sp"
   ]
  },
  {
   "cell_type": "markdown",
   "id": "1b6bb18b-c5c5-4965-8e10-05694d0e50af",
   "metadata": {},
   "source": [
    "&nbsp;&nbsp;&nbsp;&nbsp;&nbsp; Declarando a variável $x$ e $h$:"
   ]
  },
  {
   "cell_type": "code",
   "execution_count": 2,
   "id": "ab5e085d-eec8-4493-a4a9-06f7fa8df948",
   "metadata": {},
   "outputs": [],
   "source": [
    "x = sp.Symbol(\"x\")\n",
    "hlam = sp.Lambda(x,x-x**2)\n",
    "h = x-x**2"
   ]
  },
  {
   "cell_type": "markdown",
   "id": "fae38738-220b-4d78-958c-09e3fd0dd27e",
   "metadata": {},
   "source": [
    "&nbsp;&nbsp;&nbsp;&nbsp;&nbsp; Calculando $h'(x)$:"
   ]
  },
  {
   "cell_type": "code",
   "execution_count": 3,
   "id": "4cd6ef64-b622-4dcd-b4a2-83dbbb72f688",
   "metadata": {},
   "outputs": [],
   "source": [
    "hx = sp.diff(h,x)"
   ]
  },
  {
   "cell_type": "markdown",
   "id": "e7dd56f4-d4ec-4f05-abf1-cd53f7bf7a9b",
   "metadata": {},
   "source": [
    "&nbsp;&nbsp;&nbsp;&nbsp;&nbsp; Encontrando pontos críticos (pc) resolvendo $h'(x)=0$:"
   ]
  },
  {
   "cell_type": "code",
   "execution_count": 4,
   "id": "69001345-b623-4f05-a98d-c5f2ebe56d6a",
   "metadata": {},
   "outputs": [
    {
     "data": {
      "text/plain": [
       "[1/2]"
      ]
     },
     "execution_count": 4,
     "metadata": {},
     "output_type": "execute_result"
    }
   ],
   "source": [
    "pc = sp.solve(hx,x)\n",
    "pc"
   ]
  },
  {
   "cell_type": "markdown",
   "id": "7524f108-a71d-4459-9ab7-fbf796436a72",
   "metadata": {},
   "source": [
    "&nbsp;&nbsp;&nbsp;&nbsp;&nbsp; Utilizando a função \"hlam\" para obter o valor de $h(pc)$:"
   ]
  },
  {
   "cell_type": "code",
   "execution_count": 5,
   "id": "fc5786c4-8b99-4b3f-99e8-81392cfcc0fe",
   "metadata": {},
   "outputs": [
    {
     "data": {
      "text/latex": [
       "$\\displaystyle \\frac{1}{4}$"
      ],
      "text/plain": [
       "1/4"
      ]
     },
     "execution_count": 5,
     "metadata": {},
     "output_type": "execute_result"
    }
   ],
   "source": [
    "hlam(pc[0])"
   ]
  },
  {
   "cell_type": "markdown",
   "id": "4cae9086-1a9b-4ef2-8938-563c46d470f1",
   "metadata": {},
   "source": [
    "&nbsp;&nbsp;&nbsp;&nbsp;&nbsp; Portanto, $d=sup|h(x)|=sup|f(x)-g(x)|=\\frac{1}{4}$."
   ]
  },
  {
   "cell_type": "markdown",
   "id": "e1bc8022-655c-4520-82f4-e6e5fb630e95",
   "metadata": {},
   "source": [
    "<h4 style='color:#460204' >&nbsp;&nbsp;&nbsp;&nbsp;2.1.2 &nbsp;Abordagem numérica</h4>\n",
    "\n",
    "&nbsp;&nbsp;&nbsp;&nbsp;&nbsp; A estratégia para obter numéricamente a distância $d$ entre $f$ e $g$ consiste em discretizar o domínio $[0,1]$ (vx) a fim de gerar um vetor distância (vd) com a regra a seguir:\n",
    "\n",
    "$$ \\textrm{vd}_{i} = |\\textrm{vx}_{i} - (\\textrm{vx}_{i})^2|, \\: \\: \\: i = 0,1,2,3,\\dots,n$$\n",
    "\n",
    "&nbsp;&nbsp;&nbsp;&nbsp;&nbsp; Uma vez em posse do vetor distância, basta obter o valor máximo de <b>vd</b>:\n",
    "\n",
    "$$ d \\approx \\textrm{max}(\\textrm{vd})$$\n",
    "\n",
    "&nbsp;&nbsp;&nbsp;&nbsp;&nbsp; Carregando a biblioteca NumPy:"
   ]
  },
  {
   "cell_type": "code",
   "execution_count": 6,
   "id": "eeab7726-5bd7-4c96-a903-f9426a3a6775",
   "metadata": {},
   "outputs": [],
   "source": [
    "import numpy as np"
   ]
  },
  {
   "cell_type": "markdown",
   "id": "e96f3a40-9a8a-4401-b18c-b217d9c93018",
   "metadata": {},
   "source": [
    "&nbsp;&nbsp;&nbsp;&nbsp;&nbsp; Discretizando o intervalo $[0,1]$:"
   ]
  },
  {
   "cell_type": "code",
   "execution_count": 7,
   "id": "d4bb52cc-f02e-4bb0-9891-35dd91d1683b",
   "metadata": {},
   "outputs": [],
   "source": [
    "vx = np.arange(0,1,0.01)"
   ]
  },
  {
   "cell_type": "markdown",
   "id": "7d5b7e9e-1c49-4acd-86fe-01b4c81b3eb6",
   "metadata": {},
   "source": [
    "&nbsp;&nbsp;&nbsp;&nbsp;&nbsp; Obtendo vetor distância (vd):"
   ]
  },
  {
   "cell_type": "code",
   "execution_count": 8,
   "id": "83c2f5a6-4ec7-4de4-ae9c-3fc54939c40c",
   "metadata": {},
   "outputs": [],
   "source": [
    "vd = abs(vx - vx**2)"
   ]
  },
  {
   "cell_type": "markdown",
   "id": "8429800a-df03-4d17-b74e-c7c5cadf6dd3",
   "metadata": {},
   "source": [
    "&nbsp;&nbsp;&nbsp;&nbsp;&nbsp; Encontrando o valor máximo de <b>vd</b>:"
   ]
  },
  {
   "cell_type": "code",
   "execution_count": 9,
   "id": "23846a9c-9bce-4695-adcf-d4baedc78679",
   "metadata": {},
   "outputs": [
    {
     "data": {
      "text/plain": [
       "0.25"
      ]
     },
     "execution_count": 9,
     "metadata": {},
     "output_type": "execute_result"
    }
   ],
   "source": [
    "d = np.amax(vd)\n",
    "d"
   ]
  },
  {
   "cell_type": "markdown",
   "id": "50df89fc-1f3d-4771-bd1a-1518e7da417b",
   "metadata": {},
   "source": [
    "&nbsp;&nbsp;&nbsp;&nbsp;&nbsp; Portanto, a distância de $f$ até $g$ é de $0,25=\\frac{1}{4}$."
   ]
  },
  {
   "cell_type": "markdown",
   "id": "4a1798f3-eb09-40c8-b224-1d9a33bc6c38",
   "metadata": {},
   "source": [
    "<h3 style='color:#0000b7' >&nbsp;&nbsp;2.2 &nbsp;O gráfico da distância em relação ao domínio</h3>"
   ]
  },
  {
   "cell_type": "markdown",
   "id": "4a92ea47-ef59-4b13-b236-c27679b8b6cf",
   "metadata": {},
   "source": [
    "&nbsp;&nbsp;&nbsp;&nbsp;&nbsp; Importando a biblioteca Matplotlib:"
   ]
  },
  {
   "cell_type": "code",
   "execution_count": 10,
   "id": "6f3e7962-b010-44f4-bad3-46f099dc8e1d",
   "metadata": {},
   "outputs": [],
   "source": [
    "import matplotlib.pyplot as plt"
   ]
  },
  {
   "cell_type": "markdown",
   "id": "9c8c2556-a5ff-4980-b620-9f2386885260",
   "metadata": {},
   "source": [
    "&nbsp;&nbsp;&nbsp;&nbsp;&nbsp; Exibindo o gráfico de $f$ e $g$:"
   ]
  },
  {
   "cell_type": "code",
   "execution_count": 11,
   "id": "2f9b14ea-1e32-4913-b00b-b332d6ac8f0d",
   "metadata": {},
   "outputs": [
    {
     "data": {
      "text/plain": [
       "<function matplotlib.pyplot.show(close=None, block=None)>"
      ]
     },
     "execution_count": 11,
     "metadata": {},
     "output_type": "execute_result"
    },
    {
     "data": {
      "image/png": "[encoded data removed]",
      "text/plain": [
       "<Figure size 432x288 with 1 Axes>"
      ]
     },
     "metadata": {
      "needs_background": "light"
     },
     "output_type": "display_data"
    }
   ],
   "source": [
    "plt.plot(vx,vx,   'r',label = 'f') \n",
    "plt.plot(vx,vx**2,'b',label = 'g') \n",
    "\n",
    "plt.title(\"Função distância\")\n",
    "plt.xlabel(\"x \")\n",
    "plt.ylabel(\"y\")\n",
    "plt.legend()\n",
    "plt.show"
   ]
  },
  {
   "cell_type": "markdown",
   "id": "8b540f8d-60c8-4ca0-b9ad-d5030c2b306f",
   "metadata": {},
   "source": [
    "&nbsp;&nbsp;&nbsp;&nbsp;&nbsp; Exibindo o gráfico de $h$ onde $d(x)=h(x)=|f(x)-g(x)|$:"
   ]
  },
  {
   "cell_type": "code",
   "execution_count": 12,
   "id": "3f144598-0599-43e9-936b-fdc660a03058",
   "metadata": {},
   "outputs": [
    {
     "data": {
      "text/plain": [
       "<function matplotlib.pyplot.show(close=None, block=None)>"
      ]
     },
     "execution_count": 12,
     "metadata": {},
     "output_type": "execute_result"
    },
    {
     "data": {
      "image/png": "[encoded data removed]",
      "text/plain": [
       "<Figure size 432x288 with 1 Axes>"
      ]
     },
     "metadata": {
      "needs_background": "light"
     },
     "output_type": "display_data"
    }
   ],
   "source": [
    "plt.plot(vx,vd,'g',label = '| f - g |') \n",
    "plt.plot(vx,np.full(vx.shape[0], 1/4),'m', linestyle = 'dotted', label=\"d=1/4\")\n",
    "\n",
    "plt.title(\"Função distância\")\n",
    "plt.xlabel(\"Domínio (x) \")\n",
    "plt.ylabel(\"Distância (d)\")\n",
    "plt.legend()\n",
    "plt.show"
   ]
  },
  {
   "cell_type": "markdown",
   "id": "c9a1135f-92ca-408f-bc60-83f944c21412",
   "metadata": {},
   "source": [
    "<h3 style='color:#0000b7' >&nbsp;&nbsp;2.3 &nbsp;Ajuste de uma curva para a função distância $d(x)$</h3>\n",
    "\n",
    "&nbsp;&nbsp;&nbsp;&nbsp;&nbsp; Vamos supor que conhecemos alguns pontos da função distância os quais serão armazenados no vetor do domínio (px) e distância (pd):"
   ]
  },
  {
   "cell_type": "code",
   "execution_count": 13,
   "id": "c7ec4bf5-66de-4af6-9771-d48f9370ddcf",
   "metadata": {},
   "outputs": [
    {
     "name": "stdout",
     "output_type": "stream",
     "text": [
      "[0.  0.1 0.2 0.3 0.4 0.5 0.6 0.7 0.8 0.9]\n",
      "[0.   0.09 0.16 0.21 0.24 0.25 0.24 0.21 0.16 0.09]\n"
     ]
    },
    {
     "data": {
      "image/png": "[encoded data removed]",
      "text/plain": [
       "<Figure size 432x288 with 1 Axes>"
      ]
     },
     "metadata": {
      "needs_background": "light"
     },
     "output_type": "display_data"
    }
   ],
   "source": [
    "px = np.arange(0,1,0.1)\n",
    "pd = abs(px-px**2)\n",
    "plt.plot(px, pd, 'o')\n",
    "plt.title(\"Distâncias de f à g\")\n",
    "plt.xlabel(\"x \")\n",
    "plt.ylabel(\"d\")\n",
    "plt.show\n",
    "print(px)\n",
    "print(pd)"
   ]
  },
  {
   "cell_type": "markdown",
   "id": "9969016d-11db-42f0-b1ae-83f01a930961",
   "metadata": {},
   "source": [
    "<h4 style='color:#460204' >&nbsp;&nbsp;&nbsp;&nbsp;2.3.1 &nbsp;Abordagem simbólica</h4>\n",
    "\n",
    "&nbsp;&nbsp;&nbsp;&nbsp;&nbsp; Observando o gráfico da <b>seção 2.3</b> conclui-se que a curva que ajusta os dados pode ser representada por uma curva gaussiana, senóine,<br> &nbsp;&nbsp;&nbsp;parábola entre outras. Considerando a razão entre os pontos e o ponto máximo global, podemos realizar um ajuste quadrático (D) ao <br>&nbsp;&nbsp;&nbsp;problema, que pode ser modelado da seguinte forma:\n",
    "\n",
    "$$ \\begin{cases}\n",
    " D'(x)=ax+b\\\\\n",
    " D(0)=0 \\\\\n",
    " D(0.2)=0.16 \\\\\n",
    " D(0.4)=0.24 \\\\\n",
    "\\end{cases} $$\n",
    "\n",
    "\n",
    "&nbsp;&nbsp;&nbsp;&nbsp;&nbsp; Declarando a função simbólica \"D\", representando a função distância, e as constantes \"a\", \"b\" e \"c\":"
   ]
  },
  {
   "cell_type": "code",
   "execution_count": 14,
   "id": "7a793141-5655-4f22-b934-8233c9fcf84e",
   "metadata": {},
   "outputs": [],
   "source": [
    "D = sp.Function(\"D\") \n",
    "a = sp.Symbol(\"a\",constant=True)\n",
    "b = sp.Symbol(\"b\",constant=True)\n",
    "c = sp.Symbol(\"c\",constant=True)"
   ]
  },
  {
   "cell_type": "markdown",
   "id": "ab1fff50-2695-452c-b179-3d1863d1dea6",
   "metadata": {},
   "source": [
    "&nbsp;&nbsp;&nbsp;&nbsp;&nbsp; Declarando equação diferencial:"
   ]
  },
  {
   "cell_type": "code",
   "execution_count": 15,
   "id": "d50fa9ea-b814-4439-b36a-4caa2cd4c8dc",
   "metadata": {},
   "outputs": [
    {
     "data": {
      "text/latex": [
       "$\\displaystyle \\frac{d}{d x} D{\\left(x \\right)} = a x + b$"
      ],
      "text/plain": [
       "Eq(Derivative(D(x), x), a*x + b)"
      ]
     },
     "execution_count": 15,
     "metadata": {},
     "output_type": "execute_result"
    }
   ],
   "source": [
    "eq_dif = sp.Eq(D(x).diff(x), a*x + b)\n",
    "eq_dif"
   ]
  },
  {
   "cell_type": "markdown",
   "id": "fe8870c5-8921-42dc-9cb5-7b4b4acc67b4",
   "metadata": {},
   "source": [
    "&nbsp; &nbsp; &nbsp; &nbsp;  Obtendo solução geral:"
   ]
  },
  {
   "cell_type": "code",
   "execution_count": 16,
   "id": "f00fcf54-5cfe-4218-abb7-49cf132afaa4",
   "metadata": {},
   "outputs": [
    {
     "data": {
      "text/latex": [
       "$\\displaystyle D{\\left(x \\right)} = C_{1} + \\frac{a x^{2}}{2} + b x$"
      ],
      "text/plain": [
       "Eq(D(x), C1 + a*x**2/2 + b*x)"
      ]
     },
     "execution_count": 16,
     "metadata": {},
     "output_type": "execute_result"
    }
   ],
   "source": [
    "sol = sp.dsolve(eq_dif)\n",
    "sol"
   ]
  },
  {
   "cell_type": "markdown",
   "id": "467e88d7-1d1b-4b26-958b-1fad88ab620f",
   "metadata": {},
   "source": [
    "&nbsp; &nbsp; &nbsp; &nbsp;  Obtendo valores dos coeficientes da solução geral:"
   ]
  },
  {
   "cell_type": "code",
   "execution_count": 17,
   "id": "a8fb93f7-94b4-4728-bae9-fe3e6b5fb123",
   "metadata": {},
   "outputs": [
    {
     "data": {
      "text/latex": [
       "$\\displaystyle \\left\\{\\left( -1.0, \\  1.0, \\  0\\right)\\right\\}$"
      ],
      "text/plain": [
       "{(-1.0, 1.0, 0)}"
      ]
     },
     "execution_count": 17,
     "metadata": {},
     "output_type": "execute_result"
    }
   ],
   "source": [
    "coef = sp.linsolve([c+a*(0)**2+b*(0), c+a*(0.2)**2+b*(0.2)-0.16, c+a*(0.4)**2+b*(0.4)-0.24 ], (a, b, c))\n",
    "coef"
   ]
  },
  {
   "cell_type": "markdown",
   "id": "c8ff25eb-c5fd-4f1d-a2bd-721bb8f7b48b",
   "metadata": {},
   "source": [
    "&nbsp; &nbsp; &nbsp; &nbsp;  Portonto, a solução para o problema de contorno é:\n",
    "\n",
    "$$ D(x)=-x^2+x$$ \n",
    "\n",
    "&nbsp; &nbsp; &nbsp; &nbsp; Note que esta equação é igual a função distância abordada na <b>seção 2.1.1</b>."
   ]
  },
  {
   "cell_type": "code",
   "execution_count": 18,
   "id": "4df22d67-e962-4e95-96a5-346b1afe3341",
   "metadata": {},
   "outputs": [
    {
     "data": {
      "text/plain": [
       "<function matplotlib.pyplot.show(close=None, block=None)>"
      ]
     },
     "execution_count": 18,
     "metadata": {},
     "output_type": "execute_result"
    },
    {
     "data": {
      "image/png": "[encoded data removed]",
      "text/plain": [
       "<Figure size 432x288 with 1 Axes>"
      ]
     },
     "metadata": {
      "needs_background": "light"
     },
     "output_type": "display_data"
    }
   ],
   "source": [
    "plt.plot(px, pd, 'o')\n",
    "plt.plot(vx,vd)\n",
    "plt.title(\"Função distância\")\n",
    "plt.xlabel(\"x \")\n",
    "plt.ylabel(\"d\")\n",
    "plt.show"
   ]
  },
  {
   "cell_type": "markdown",
   "id": "0fa45ca8-44f6-4db0-a05f-86794ed21264",
   "metadata": {},
   "source": [
    "<h4 style='color:#460204' >&nbsp;&nbsp;&nbsp;&nbsp;2.3.2 &nbsp;Abordagem numérica</h4>"
   ]
  },
  {
   "cell_type": "markdown",
   "id": "b8222cc6-9098-4d1d-a669-934a02690b12",
   "metadata": {},
   "source": [
    "&nbsp;&nbsp;&nbsp;&nbsp;&nbsp; Para efetuar um ajuste numérico é necessário definir uma função python contendo uma curva que possívelmente melhor se ajusta aos <br>&nbsp;&nbsp;&nbsp;&nbsp;dados. Neste caso, pode-se pensar que o ajuste é uma parábola voltada para baixo, como apontado na <b>seção 2.3.1</b>\n",
    "\n",
    "&nbsp;&nbsp;&nbsp;&nbsp;&nbsp; Definindo a função quadrática cujas assinaturas são: Uma variável $x$, o vetor domínio e o vetor de distâncias:"
   ]
  },
  {
   "cell_type": "code",
   "execution_count": 19,
   "id": "626ceff9-7884-479d-a7f2-e8853c6469ae",
   "metadata": {},
   "outputs": [],
   "source": [
    "def Quadratico(x, A, B):\n",
    "    d = A*x**2+B*x\n",
    "    return d"
   ]
  },
  {
   "cell_type": "markdown",
   "id": "23154954-6c41-428f-902c-556b58629410",
   "metadata": {},
   "source": [
    "&nbsp;&nbsp;&nbsp;&nbsp;&nbsp; Importando o módulo de ajuste da biblioteca scipy:"
   ]
  },
  {
   "cell_type": "code",
   "execution_count": 20,
   "id": "8e83e851-9034-457d-991c-5fd691b871a4",
   "metadata": {},
   "outputs": [],
   "source": [
    "from scipy.optimize import curve_fit"
   ]
  },
  {
   "cell_type": "markdown",
   "id": "473979a0-aefc-4e0a-99a0-23eabeac0f4a",
   "metadata": {},
   "source": [
    "&nbsp;&nbsp;&nbsp;&nbsp;&nbsp; Utilizando a função <b>curve_fit</b> para obter os parâmetros A e B:"
   ]
  },
  {
   "cell_type": "code",
   "execution_count": 21,
   "id": "e2f0dc1a-bd2f-4381-a68c-d2d5a3627028",
   "metadata": {},
   "outputs": [
    {
     "name": "stdout",
     "output_type": "stream",
     "text": [
      "-0.9999999999999999\n",
      "0.9999999999999999\n"
     ]
    }
   ],
   "source": [
    "parametros, covariancia = curve_fit(Quadratico, px, pd)\n",
    "\n",
    "ajuste_A = parametros[0]\n",
    "ajuste_B = parametros[1]\n",
    "print(ajuste_A)\n",
    "print(ajuste_B)"
   ]
  },
  {
   "cell_type": "markdown",
   "id": "ac8d08c2-0c7e-4cd4-bec3-e0113e88fd87",
   "metadata": {},
   "source": [
    "&nbsp;&nbsp;&nbsp;&nbsp;&nbsp; Exibindo o gráfico dos pontos conhecidos e da curva ajustada:"
   ]
  },
  {
   "cell_type": "code",
   "execution_count": 22,
   "id": "9ad78aa3-1ce1-488a-b3e6-9dc53d12cc36",
   "metadata": {},
   "outputs": [
    {
     "data": {
      "text/plain": [
       "<matplotlib.legend.Legend at 0x1f2bd229960>"
      ]
     },
     "execution_count": 22,
     "metadata": {},
     "output_type": "execute_result"
    },
    {
     "data": {
      "image/png": "[encoded data removed]",
      "text/plain": [
       "<Figure size 432x288 with 1 Axes>"
      ]
     },
     "metadata": {
      "needs_background": "light"
     },
     "output_type": "display_data"
    }
   ],
   "source": [
    "ajuste = Quadratico(px, ajuste_A , ajuste_B)\n",
    "plt.plot(px, pd, 'o', label='distâncias')\n",
    "plt.plot(px, ajuste, '-', label='Ajuste')\n",
    "plt.legend()"
   ]
  },
  {
   "cell_type": "markdown",
   "id": "909f14e7-2ae3-4a68-a9dc-67119b51cfec",
   "metadata": {},
   "source": [
    "&nbsp;&nbsp;&nbsp;&nbsp;&nbsp; Para obter a maior distância pode-se utilizar o mesmo raciocínio da <b>seção 2.1.2</b>:"
   ]
  },
  {
   "cell_type": "code",
   "execution_count": 23,
   "id": "0c5feb55-dbad-420d-997c-f29d3df2ff84",
   "metadata": {},
   "outputs": [
    {
     "data": {
      "text/plain": [
       "0.24999999999999997"
      ]
     },
     "execution_count": 23,
     "metadata": {},
     "output_type": "execute_result"
    }
   ],
   "source": [
    "vd = abs(Quadratico(vx,ajuste_A , ajuste_B))\n",
    "d = np.amax(vd)\n",
    "d"
   ]
  },
  {
   "cell_type": "markdown",
   "id": "49a558bd-e965-4a00-a959-2281103146f8",
   "metadata": {},
   "source": [
    "&nbsp;&nbsp;&nbsp;&nbsp;&nbsp; Portanto, segundo este método, a distância entre $f$ e $g$ é:\n",
    "\n",
    "$$ d \\approx 0.24999999999999997 \\approx 0.25$$"
   ]
  },
  {
   "cell_type": "markdown",
   "id": "87004234-ae01-4a7d-9621-ab23ce80af4b",
   "metadata": {},
   "source": [
    "<h2 style='color:#0000ec'>4 &nbsp; Conclusões</h2>\n",
    "\n",
    "&nbsp;&nbsp;&nbsp; O método simbólico é mais efetivo para obter a distância entre duas funções $f$ e $g$ uma vez que conhecemos a expressão $f-g$. Desse modo, pode-se obter a exata distância $d$.\n",
    "\n",
    "&nbsp;&nbsp;&nbsp; Já o método numérico pode ser utilizado quando desconhecemos a expressão para $f-g$, mas temos algumas distâncias conhecidas. Dessa forma, é possível ajustar uma curva ao conjunto de dados a fim de se obter um conjunto de valores que representa $f-g$. Após obter essa curva ajuste, basta aplicar o método da <b>seção 2.1.2</b> para obter o supremo."
   ]
  }
 ],
 "metadata": {
  "kernelspec": {
   "display_name": "Python 3 (ipykernel)",
   "language": "python",
   "name": "python3"
  },
  "language_info": {
   "codemirror_mode": {
    "name": "ipython",
    "version": 3
   },
   "file_extension": ".py",
   "mimetype": "text/x-python",
   "name": "python",
   "nbconvert_exporter": "python",
   "pygments_lexer": "ipython3",
   "version": "3.10.2"
  }
 },
 "nbformat": 4,
 "nbformat_minor": 5
}
