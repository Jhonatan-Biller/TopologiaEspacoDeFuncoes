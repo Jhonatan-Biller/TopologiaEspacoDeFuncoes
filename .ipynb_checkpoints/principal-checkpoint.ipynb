{
 "cells": [
  {
   "cell_type": "markdown",
   "id": "1c1d5f58-3f11-44be-8c42-285cab70894d",
   "metadata": {},
   "source": [
    "<h1 style='color:#b50000'> Espaço de Funções</h1>\n",
    "\n",
    "<h2 style='color:#0000ec'>1 &nbsp; Introdução</h2>\n",
    "\n",
    "\n",
    "&nbsp;<b style='color:#b50000' >&nbsp; Definição:</b> Seja $X$ um conjunto arbitrário. Uma <b>função</b> $f:X \\rightarrow \\mathbb{R}$ é dita <b>limitada</b> se $\\exists k\\in \\mathbb{R}$ tal que $|f(x)|\\leqslant k$, $\\forall k\\in X$.\n",
    "\n",
    "&nbsp;&nbsp;&nbsp;Indicicamos $B(X,\\mathbb{R})$ o conjunto das funções limitadas $f:X \\rightarrow \\mathbb{R}$. <br><br>\n",
    "&nbsp;&nbsp;&nbsp;A distância $d$ entre duas funções limitadas é representada por:\n",
    "\n",
    "$$d: B(X,\\mathbb{R})\\times B(X,\\mathbb{R}) \\rightarrow \\mathbb{R} \\: \\: \\: \\: (f,g)\\mapsto sup|f(x)-g(x)| $$\n",
    "\n",
    "&nbsp;&nbsp;&nbsp; <b>Referência:</b> <i>Elementos de Topologia Geral</i>, de Elon Lajes Lima"
   ]
  },
  {
   "cell_type": "markdown",
   "id": "5e161dbd-d011-4a02-80e1-2944113b2b2d",
   "metadata": {},
   "source": [
    "<h2 style='color:#0000ec'>2 &nbsp; Problemas propostos</h2>\n",
    "\n",
    "&nbsp;&nbsp;&nbsp;Considere as funções:\n",
    "$$ f:[0,1]\\rightarrow \\mathbb{R}, \\: g:[0,1]\\rightarrow \\mathbb{R}$$\n",
    "$$f(x)=x, \\: g(x)=x^2$$\n",
    "\n",
    "&nbsp;&nbsp;&nbsp;<b>Problemas:</b> \n",
    "\n",
    "&nbsp;&nbsp;&nbsp;1. Determinar a distância $d$ entre as funções $f$ e $g$.\n",
    "\n",
    "&nbsp;&nbsp;&nbsp;2. Exibir o gráfico $x\\times d $.\n",
    "\n",
    "&nbsp;&nbsp;&nbsp;3. Ajustar uma curva ao gráfico $x\\times d $."
   ]
  },
  {
   "cell_type": "markdown",
   "id": "7b3aa419-ea1c-47ca-bda8-8941aacbc3d7",
   "metadata": {},
   "source": [
    "<h2 style='color:#0000ec'>3 &nbsp; Resolução do problema</h2>\n",
    "\n",
    "<h3 style='color:#0000b7' >&nbsp;&nbsp;2.1 &nbsp;A distância entre $f$ e $g$</h3>"
   ]
  },
  {
   "cell_type": "markdown",
   "id": "3bad7cf5-09bd-4002-8571-2448224f2a0e",
   "metadata": {},
   "source": [
    "<h4 style='color:#460204' >&nbsp;&nbsp;&nbsp;&nbsp;2.1.2 &nbsp;Abordagem simbólica</h4>\n",
    "\n",
    "&nbsp;&nbsp;&nbsp;&nbsp;&nbsp; A estratégia para obter simbólicamente a distância $d$ entre $f$ e $g$ consiste em obter o(s) ponto(s) crítico(s) da função $h = f - g$.\n",
    "\n",
    "&nbsp;&nbsp;&nbsp;&nbsp;&nbsp; Carregando a biblioteca Sympy:"
   ]
  },
  {
   "cell_type": "code",
   "execution_count": 14,
   "id": "825bf77c-2007-4e66-bb57-518e74e92a6a",
   "metadata": {},
   "outputs": [],
   "source": [
    "import sympy as sp"
   ]
  },
  {
   "cell_type": "markdown",
   "id": "1b6bb18b-c5c5-4965-8e10-05694d0e50af",
   "metadata": {},
   "source": [
    "&nbsp;&nbsp;&nbsp;&nbsp;&nbsp; Declarando a variável $x$ e $h$:"
   ]
  },
  {
   "cell_type": "code",
   "execution_count": 15,
   "id": "ab5e085d-eec8-4493-a4a9-06f7fa8df948",
   "metadata": {},
   "outputs": [],
   "source": [
    "x = sp.Symbol(\"x\")\n",
    "hlam = sp.Lambda(x,x-x**2)\n",
    "h = x-x**2"
   ]
  },
  {
   "cell_type": "markdown",
   "id": "fae38738-220b-4d78-958c-09e3fd0dd27e",
   "metadata": {},
   "source": [
    "&nbsp;&nbsp;&nbsp;&nbsp;&nbsp; Calculando $h'(x)$:"
   ]
  },
  {
   "cell_type": "code",
   "execution_count": null,
   "id": "4cd6ef64-b622-4dcd-b4a2-83dbbb72f688",
   "metadata": {},
   "outputs": [],
   "source": [
    "hx = sp.diff(h,x)"
   ]
  },
  {
   "cell_type": "markdown",
   "id": "e7dd56f4-d4ec-4f05-abf1-cd53f7bf7a9b",
   "metadata": {},
   "source": [
    "&nbsp;&nbsp;&nbsp;&nbsp;&nbsp; Encontrando pontos críticos (pc) resolvendo $h'(x)=0$:"
   ]
  },
  {
   "cell_type": "code",
   "execution_count": 16,
   "id": "69001345-b623-4f05-a98d-c5f2ebe56d6a",
   "metadata": {},
   "outputs": [
    {
     "data": {
      "text/plain": [
       "[1/2]"
      ]
     },
     "execution_count": 16,
     "metadata": {},
     "output_type": "execute_result"
    }
   ],
   "source": [
    "pc = sp.solve(hx,x)\n",
    "pc"
   ]
  },
  {
   "cell_type": "markdown",
   "id": "7524f108-a71d-4459-9ab7-fbf796436a72",
   "metadata": {},
   "source": [
    "&nbsp;&nbsp;&nbsp;&nbsp;&nbsp; Utilizando a função \"hlam\" para obter o valor de $h(pc)$:"
   ]
  },
  {
   "cell_type": "code",
   "execution_count": 17,
   "id": "fc5786c4-8b99-4b3f-99e8-81392cfcc0fe",
   "metadata": {},
   "outputs": [
    {
     "data": {
      "text/latex": [
       "$\\displaystyle \\frac{1}{4}$"
      ],
      "text/plain": [
       "1/4"
      ]
     },
     "execution_count": 17,
     "metadata": {},
     "output_type": "execute_result"
    }
   ],
   "source": [
    "hlam(pc[0])"
   ]
  },
  {
   "cell_type": "markdown",
   "id": "4cae9086-1a9b-4ef2-8938-563c46d470f1",
   "metadata": {},
   "source": [
    "&nbsp;&nbsp;&nbsp;&nbsp;&nbsp; Portanto, $d=sup|h(x)|=sup|f(x)-g(x)|=\\frac{1}{4}$."
   ]
  },
  {
   "cell_type": "markdown",
   "id": "e1bc8022-655c-4520-82f4-e6e5fb630e95",
   "metadata": {},
   "source": [
    "<h4 style='color:#460204' >&nbsp;&nbsp;&nbsp;&nbsp;2.1.2 &nbsp;Abordagem numérica</h4>\n",
    "\n",
    "&nbsp;&nbsp;&nbsp;&nbsp;&nbsp; A estratégia para obter numéricamente a distância $d$ entre $f$ e $g$ consiste em discretizar o domínio $[0,1]$ (vx) a fim de gerar um vetor distância (vd) com a regra a seguir:\n",
    "\n",
    "$$ \\textrm{vd}_{i} = |\\textrm{vx}_{i} - (\\textrm{vx}_{i})^2|, \\: \\: \\: i = 0,1,2,3,\\dots,n$$\n",
    "\n",
    "&nbsp;&nbsp;&nbsp;&nbsp;&nbsp; Uma vez em posse do vetor distância, basta obter o valor máximo de <b>vd</b>:\n",
    "\n",
    "$$ d \\approx \\textrm{max}(\\textrm{vd})$$\n",
    "\n",
    "&nbsp;&nbsp;&nbsp;&nbsp;&nbsp; Carregando a biblioteca NumPy:"
   ]
  },
  {
   "cell_type": "code",
   "execution_count": 18,
   "id": "eeab7726-5bd7-4c96-a903-f9426a3a6775",
   "metadata": {},
   "outputs": [],
   "source": [
    "import numpy as np"
   ]
  },
  {
   "cell_type": "markdown",
   "id": "e96f3a40-9a8a-4401-b18c-b217d9c93018",
   "metadata": {},
   "source": [
    "&nbsp;&nbsp;&nbsp;&nbsp;&nbsp; Discretizando o intervalo $[0,1]$:"
   ]
  },
  {
   "cell_type": "code",
   "execution_count": 22,
   "id": "d4bb52cc-f02e-4bb0-9891-35dd91d1683b",
   "metadata": {},
   "outputs": [],
   "source": [
    "vx = np.arange(0,1,0.01)"
   ]
  },
  {
   "cell_type": "markdown",
   "id": "7d5b7e9e-1c49-4acd-86fe-01b4c81b3eb6",
   "metadata": {},
   "source": [
    "&nbsp;&nbsp;&nbsp;&nbsp;&nbsp; Obtendo vetor distância (vd):"
   ]
  },
  {
   "cell_type": "code",
   "execution_count": 24,
   "id": "83c2f5a6-4ec7-4de4-ae9c-3fc54939c40c",
   "metadata": {},
   "outputs": [],
   "source": [
    "vd = abs(vx - vx**2)"
   ]
  },
  {
   "cell_type": "markdown",
   "id": "8429800a-df03-4d17-b74e-c7c5cadf6dd3",
   "metadata": {},
   "source": [
    "&nbsp;&nbsp;&nbsp;&nbsp;&nbsp; Encontrando o valor máximo de <b>vd</b>:"
   ]
  },
  {
   "cell_type": "code",
   "execution_count": 25,
   "id": "23846a9c-9bce-4695-adcf-d4baedc78679",
   "metadata": {},
   "outputs": [
    {
     "data": {
      "text/plain": [
       "0.25"
      ]
     },
     "execution_count": 25,
     "metadata": {},
     "output_type": "execute_result"
    }
   ],
   "source": [
    "d = np.amax(vd)\n",
    "d"
   ]
  },
  {
   "cell_type": "markdown",
   "id": "50df89fc-1f3d-4771-bd1a-1518e7da417b",
   "metadata": {},
   "source": [
    "&nbsp;&nbsp;&nbsp;&nbsp;&nbsp; Portanto, a distância de $f$ até $g$ é de $0,25=\\frac{1}{4}$."
   ]
  },
  {
   "cell_type": "markdown",
   "id": "4a1798f3-eb09-40c8-b224-1d9a33bc6c38",
   "metadata": {},
   "source": [
    "<h3 style='color:#0000b7' >&nbsp;&nbsp;2.2 &nbsp;O gráfico da distância em relação ao domínio</h3>"
   ]
  },
  {
   "cell_type": "code",
   "execution_count": 29,
   "id": "6f3e7962-b010-44f4-bad3-46f099dc8e1d",
   "metadata": {},
   "outputs": [],
   "source": [
    "import matplotlib.pyplot as plt"
   ]
  },
  {
   "cell_type": "code",
   "execution_count": 37,
   "id": "3f144598-0599-43e9-936b-fdc660a03058",
   "metadata": {},
   "outputs": [
    {
     "data": {
      "text/plain": [
       "<function matplotlib.pyplot.show(close=None, block=None)>"
      ]
     },
     "execution_count": 37,
     "metadata": {},
     "output_type": "execute_result"
    },
    {
     "data": {
      "image/png": "[encoded data removed]",
      "text/plain": [
       "<Figure size 432x288 with 1 Axes>"
      ]
     },
     "metadata": {
      "needs_background": "light"
     },
     "output_type": "display_data"
    }
   ],
   "source": [
    "plt.plot(vx,vd,'b',label = '| f - g |') \n",
    "plt.plot(vx,np.full(vx.shape[0], 1/4),'m', linestyle = 'dotted', label=\"y=1/4\")\n",
    "\n",
    "plt.title(\"Função distância\")\n",
    "plt.xlabel(\"Domínio (x) \")\n",
    "plt.ylabel(\"Distância (d)\")\n",
    "plt.legend()\n",
    "plt.show"
   ]
  }
 ],
 "metadata": {
  "kernelspec": {
   "display_name": "Python 3 (ipykernel)",
   "language": "python",
   "name": "python3"
  },
  "language_info": {
   "codemirror_mode": {
    "name": "ipython",
    "version": 3
   },
   "file_extension": ".py",
   "mimetype": "text/x-python",
   "name": "python",
   "nbconvert_exporter": "python",
   "pygments_lexer": "ipython3",
   "version": "3.10.2"
  }
 },
 "nbformat": 4,
 "nbformat_minor": 5
}
